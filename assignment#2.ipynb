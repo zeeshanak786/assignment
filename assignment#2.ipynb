{
 "cells": [
  {
   "cell_type": "code",
   "execution_count": 8,
   "metadata": {},
   "outputs": [
    {
     "name": "stdout",
     "output_type": "stream",
     "text": [
      "Math marks60\n",
      "Urdu marks80\n",
      "English marks77\n",
      "Physics marks74\n",
      "Chemistry marks67\n",
      "percentage = 71.6\n",
      "Grade:A\n"
     ]
    }
   ],
   "source": [
    "#1. Write a program which takes 5 inputs from user for different subject’smarks, total it and generate mark sheet using grades ?\n",
    "\n",
    "#for input\n",
    "math = float(input(\"Math marks\"))\n",
    "urdu = float(input(\"Urdu marks\"))\n",
    "english = float(input(\"English marks\"))\n",
    "physics = float(input(\"Physics marks\"))\n",
    "chemistry = float(input(\"Chemistry marks\"))\n",
    "\n",
    "#total marks \n",
    "total_marks = math + urdu + english + physics + chemistry\n",
    "\n",
    "#percentage\n",
    "percentage = (total_marks / 500) * 100\n",
    "print(\"percentage =\",percentage)\n",
    "\n",
    "#grade\n",
    "if percentage <= 99 and percentage >= 80 :\n",
    "    print(\"Grade:A1\")    \n",
    "elif percentage <= 79 and percentage >= 70 :\n",
    "    print(\"Grade:A\") \n",
    "elif percentage <= 69 and percentage >= 60 :\n",
    "    print(\"Grade:B\")   \n",
    "elif percentage <= 59 and percentage >= 50 :\n",
    "    print(\"Grade:C\") \n",
    "elif percentage <= 49 and percentage >= 40 :\n",
    "    print(\"Grade:D\") \n",
    "else :\n",
    "    print(\"Fail\") "
   ]
  },
  {
   "cell_type": "code",
   "execution_count": 18,
   "metadata": {},
   "outputs": [
    {
     "name": "stdout",
     "output_type": "stream",
     "text": [
      "enter number 9\n",
      "Odd number is : 9\n"
     ]
    }
   ],
   "source": [
    "#2. Write a program which take input from user and identify that the given number is even or odd?\n",
    "\n",
    "number = int(input(\"enter number \"))\n",
    "\n",
    "#logic\n",
    "exp = number % 2\n",
    "if exp == 0 :\n",
    "    print(\"Even number is :\",number)\n",
    "else :\n",
    "    print(\"Odd number is :\",number)\n"
   ]
  },
  {
   "cell_type": "code",
   "execution_count": 25,
   "metadata": {},
   "outputs": [
    {
     "name": "stdout",
     "output_type": "stream",
     "text": [
      "list lenght : 6\n"
     ]
    }
   ],
   "source": [
    "#3. Write a program which print the length of the list?\n",
    "\n",
    "number_list=[1,2,3,4,5,6]\n",
    "\n",
    "print(\"list lenght :\",len(number_list))\n"
   ]
  },
  {
   "cell_type": "code",
   "execution_count": 26,
   "metadata": {},
   "outputs": [
    {
     "name": "stdout",
     "output_type": "stream",
     "text": [
      "sum of list: 21\n"
     ]
    }
   ],
   "source": [
    "#4. Write a Python program to sum all the numeric items in a list?\n",
    "\n",
    "number_list=[1,2,3,4,5,6]\n",
    "\n",
    "print(\"sum of list:\",sum(number_list))  \n"
   ]
  },
  {
   "cell_type": "code",
   "execution_count": 31,
   "metadata": {},
   "outputs": [
    {
     "name": "stdout",
     "output_type": "stream",
     "text": [
      "largest number: 6\n"
     ]
    }
   ],
   "source": [
    "#5. Write a Python program to get the largest number from a numeric list.\n",
    "\n",
    "number_list=[1,2,3,4,5,6]\n",
    "\n",
    "print(\"largest number:\",max(number_list))\n"
   ]
  },
  {
   "cell_type": "code",
   "execution_count": 37,
   "metadata": {},
   "outputs": [
    {
     "name": "stdout",
     "output_type": "stream",
     "text": [
      "1\n",
      "1\n",
      "2\n",
      "3\n"
     ]
    }
   ],
   "source": [
    "#6. Take a list, say for example this one:a = [1, 1, 2, 3, 5, 8, 13, 21, 34, 55, 89]and write a program that prints out all the elements of the list that areless than 5.\n",
    "\n",
    "a = [1, 1, 2, 3, 5, 8, 13, 21, 34, 55, 89]\n",
    "\n",
    "for x in a:\n",
    "\n",
    "    if x < 5:\n",
    "\n",
    "        print(x)"
   ]
  }
 ],
 "metadata": {
  "kernelspec": {
   "display_name": "Python 3",
   "language": "python",
   "name": "python3"
  },
  "language_info": {
   "codemirror_mode": {
    "name": "ipython",
    "version": 3
   },
   "file_extension": ".py",
   "mimetype": "text/x-python",
   "name": "python",
   "nbconvert_exporter": "python",
   "pygments_lexer": "ipython3",
   "version": "3.7.4"
  }
 },
 "nbformat": 4,
 "nbformat_minor": 2
}
