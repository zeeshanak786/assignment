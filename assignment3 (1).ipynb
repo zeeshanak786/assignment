{
 "cells": [
  {
   "cell_type": "code",
   "execution_count": 3,
   "metadata": {},
   "outputs": [
    {
     "name": "stdout",
     "output_type": "stream",
     "text": [
      "enter number5\n",
      "enter operator-\n",
      "enter number6\n",
      "Output =  -1\n"
     ]
    }
   ],
   "source": [
    "#1. Make a calculator using Python with addition , subtraction , multiplication ,division and power.\n",
    "\n",
    "#Input section\n",
    "\n",
    "first_number = int(input(\"enter number\"))\n",
    "operator = str(input(\"enter operator\"))\n",
    "second_number = int(input(\"enter number\"))\n",
    "\n",
    "#Condition section\n",
    "\n",
    "if operator == \"+\" :\n",
    "  add = first_number + second_number\n",
    "  print(\"Output = \",add)\n",
    "elif operator == \"-\" : \n",
    "  sub = first_number - second_number\n",
    "  print(\"Output = \",sub)\n",
    "elif operator == \"*\" :\n",
    "  multi = first_number * second_number\n",
    "  print(\"Output = \",multi)  \n",
    "elif operator == \"+\" :\n",
    "  div = first_number / second_number\n",
    "  print(\"Output = \",div)\n",
    "else :\n",
    "    print(\"invalid operator/number\")\n",
    "\n"
   ]
  },
  {
   "cell_type": "code",
   "execution_count": 4,
   "metadata": {},
   "outputs": [
    {
     "name": "stdout",
     "output_type": "stream",
     "text": [
      "enter number4\n",
      "number not in list\n",
      "number are in list\n"
     ]
    }
   ],
   "source": [
    " #2. Write a program to check if there is any numeric value in list using for loop.\n",
    "    \n",
    "list = [\"horse\",4,5,6,7,8,9,\"dog\",\"cat\"]\n",
    "number = int(input(\"enter number\"))\n",
    "for i in list:\n",
    "    if number == i:\n",
    "        print(\"this number are in list\")\n",
    "        break\n",
    "    else:\n",
    "        print(\"this number not in list\")  "
   ]
  },
  {
   "cell_type": "code",
   "execution_count": 6,
   "metadata": {},
   "outputs": [
    {
     "name": "stdout",
     "output_type": "stream",
     "text": [
      "boidata {'id': '1', 'name': 'zeeshan', 'rollno': '108'}\n",
      "boidata {'id': '1', 'name': 'zeeshan', 'rollno': '108', 'depart': 'Software'}\n"
     ]
    }
   ],
   "source": [
    "#3. Write a Python script to add a key to a dictionary\n",
    "\n",
    "biodata = {\"id\":\"1\",\"name\":\"zeeshan\",\"rollno\":\"108\"}\n",
    "print(\"boidata\",biodata)\n",
    "biodata[\"depart\"] = \"Software\"\n",
    "print(\"boidata\",biodata)"
   ]
  },
  {
   "cell_type": "code",
   "execution_count": 7,
   "metadata": {
    "collapsed": true
   },
   "outputs": [
    {
     "name": "stdout",
     "output_type": "stream",
     "text": [
      "293\n"
     ]
    }
   ],
   "source": [
    "#4. Write a Python program to sum all the numeric items in a dictionary.\n",
    "\n",
    "dict = {'x':100,'y':-54,'z':247}\n",
    "print(sum(dict.values()))"
   ]
  },
  {
   "cell_type": "code",
   "execution_count": 10,
   "metadata": {},
   "outputs": [
    {
     "name": "stdout",
     "output_type": "stream",
     "text": [
      "{40, 10, -20, 50, 20, 60, 30}\n"
     ]
    }
   ],
   "source": [
    "#5. Write a program to identify duplicate values from list\n",
    "\n",
    "list1 = [10, 20, 30, 20, 20, 30, 40,  \n",
    "         50, -20, 60, 60, -20, -20] \n",
    "print (set(list1)) "
   ]
  },
  {
   "cell_type": "code",
   "execution_count": 24,
   "metadata": {},
   "outputs": [
    {
     "name": "stdout",
     "output_type": "stream",
     "text": [
      "enter key address\n",
      "key not in exist\n"
     ]
    }
   ],
   "source": [
    "#6. Write a Python script to check if a given key already exists in a dictionary\n",
    "\n",
    "biodata = {\"id\":\"1\",\"name\":\"zeeshan\",\"rollno\":\"108\"}\n",
    "key =str(input(\"enter key \"))\n",
    "#for i in  biodata.key():\n",
    "if key in biodata.keys():\n",
    "    print (\"key exist\") \n",
    "else :\n",
    "      print (\"key not in exist\")"
   ]
  },
  {
   "cell_type": "code",
   "execution_count": null,
   "metadata": {},
   "outputs": [],
   "source": []
  }
 ],
 "metadata": {
  "kernelspec": {
   "display_name": "Python 3",
   "language": "python",
   "name": "python3"
  },
  "language_info": {
   "codemirror_mode": {
    "name": "ipython",
    "version": 3
   },
   "file_extension": ".py",
   "mimetype": "text/x-python",
   "name": "python",
   "nbconvert_exporter": "python",
   "pygments_lexer": "ipython3",
   "version": "3.7.4"
  }
 },
 "nbformat": 4,
 "nbformat_minor": 2
}
