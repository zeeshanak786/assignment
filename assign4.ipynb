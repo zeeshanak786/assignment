{
 "cells": [
  {
   "cell_type": "code",
   "execution_count": 1,
   "metadata": {},
   "outputs": [
    {
     "name": "stdout",
     "output_type": "stream",
     "text": [
      "store_information: {'first_name': 'zeeshan', 'last_name': 'amir khan', 'city': 'karachi'}\n",
      "store_information: {'first_name': 'zeeshan', 'last_name': 'amir khan', 'city': 'karachi', 'qualification': 'undergraduate'}\n"
     ]
    }
   ],
   "source": [
    "#Question1:Use a dictionary to store information about a person you know. Store their first name, last name, age, and the city in which they live. You should have keys such as first_name, last_name, age, and city. Print each piece of information stored in your dictionary. Add a new key value pair about qualification then update the qualification value to high academic level then delete it.\n",
    "\n",
    "store_information = {\"first_name\" : \"zeeshan\",\"last_name\" : \"amir khan\",\"city\" : \"karachi\"}\n",
    "print(\"store_information:\" ,store_information)\n",
    "store_information[\"qualification\"] = \"undergraduate\"\n",
    "print(\"store_information:\" ,store_information)"
   ]
  },
  {
   "cell_type": "code",
   "execution_count": 2,
   "metadata": {},
   "outputs": [
    {
     "name": "stdout",
     "output_type": "stream",
     "text": [
      "karachi\n"
     ]
    }
   ],
   "source": [
    "#Question2:Make a dictionary called cities. Use the names of three cities as keys in your dictionary.Create a dictionary of information about each city and include the country that the city is in, its approximate population, and one fact about that city. The keys for each city’s dictionary should be something like country, population, and fact. Print the name of each city and all of the information you have stored about it.\n",
    "\n",
    "\n",
    "cities = {\"pakistan\"  :{\"country\": \"pakistan\" , \"city\" : \"karachi\" , \"population\" : \"2 million\" , \"fact\" : \"-\"} ,\n",
    "          \"india\" : {\"country\": \"india\" , \"city\" : \"delhi\" , \"population\" : \" 1.4 billion\" , \"fact\" : \"-\"},\n",
    "          \"USA\" : {\"country\": \"united state\" , \"city\" : \"calfornia\" , \"population\" : \"9 million\" , \"fact\" : \"-\"},}\n",
    "print(cities[\"pakistan\"][\"city\"])"
   ]
  },
  {
   "cell_type": "code",
   "execution_count": 3,
   "metadata": {},
   "outputs": [
    {
     "name": "stdout",
     "output_type": "stream",
     "text": [
      "enter age :56\n",
      "56\n",
      "the ticket is $15\n",
      "enter age :quit\n",
      "quit\n"
     ]
    }
   ],
   "source": [
    "#Question3:A movie theater charges different ticket prices depending on a person’s age. If a person is under the age of 3, the ticket is free; if they are between 3 and 12, the ticket is $10; and if they are over age 12, the ticket is $15. Write a loop in which you ask users their age, and then tell them the cost of their movie ticket.\n",
    "\n",
    "while True:\n",
    "\n",
    "    age = input(\"enter age :\")\n",
    "\n",
    "    print(age)\n",
    "    \n",
    "    if age == \"quit\":\n",
    "        break\n",
    "    age = int(age)\n",
    "    \n",
    "    if age == \"quit\":\n",
    "        break\n",
    "    age = int(age)\n",
    "     \n",
    "    if age < 3:\n",
    "        print(\"the ticket is free\")\n",
    "        \n",
    "        \n",
    "    elif age > 3 and age < 12:\n",
    "        print(\"the ticket is $10\")\n",
    "        \n",
    "        \n",
    "    elif age >  12:\n",
    "        print(\"the ticket is $15\")\n",
    "        \n",
    "    else:\n",
    "        print(\"please enter correct age\")"
   ]
  },
  {
   "cell_type": "code",
   "execution_count": 4,
   "metadata": {},
   "outputs": [
    {
     "name": "stdout",
     "output_type": "stream",
     "text": [
      "how to star business is one of my favorite books.\n"
     ]
    }
   ],
   "source": [
    "#Question4:Write a function called favorite_book () that accepts one parameter, title. The function should print a message, such as One of my favorite books is Alice in Wonderland. Call the function, making sure to include a book title as an argument in the function call.\n",
    "\n",
    "def favorite_book(title):\n",
    "    \n",
    "    print(title + \" is one of my favorite books.\")\n",
    "\n",
    "favorite_book('how to star business')"
   ]
  },
  {
   "cell_type": "code",
   "execution_count": 6,
   "metadata": {},
   "outputs": [
    {
     "name": "stdout",
     "output_type": "stream",
     "text": [
      "9\n",
      "Guess a number (<30): 5\n",
      "Higher...\n",
      "Guess a number (<30): 7\n",
      "Higher...\n",
      "Guess a number (<30): 8\n",
      "Higher...\n",
      "Guess a number (<30): 9\n",
      "You guessed it! The number was 9 in 3 tries\n"
     ]
    }
   ],
   "source": [
    "#Question5:Guess the number game Write a program which randomly generate a number between 1 to 30 and ask the user in input field to guess the correct number. Give three chances to user guess the number and also give hint to user if hidden number is greater or smaller than the number he given to input field.\n",
    "\n",
    "import random\n",
    " \n",
    "secret_number = random.randint(1, 30)\n",
    "print(secret_number)\n",
    "tries, guess = 0, 0\n",
    "while guess != secret_number:\n",
    "    guess = int(input(\"Guess a number (<30): \"))\n",
    "    if tries == 3:\n",
    "        break\n",
    "    if guess > secret_number:\n",
    "        print(\"Lower...\")\n",
    "    elif guess < secret_number:\n",
    "        print(\"Higher...\")\n",
    "    tries += 1\n",
    " \n",
    "print('You guessed it! The number was {} in {} tries'.format(guess, tries))"
   ]
  },
  {
   "cell_type": "code",
   "execution_count": null,
   "metadata": {},
   "outputs": [],
   "source": []
  }
 ],
 "metadata": {
  "kernelspec": {
   "display_name": "Python 3",
   "language": "python",
   "name": "python3"
  },
  "language_info": {
   "codemirror_mode": {
    "name": "ipython",
    "version": 3
   },
   "file_extension": ".py",
   "mimetype": "text/x-python",
   "name": "python",
   "nbconvert_exporter": "python",
   "pygments_lexer": "ipython3",
   "version": "3.7.4"
  }
 },
 "nbformat": 4,
 "nbformat_minor": 2
}
