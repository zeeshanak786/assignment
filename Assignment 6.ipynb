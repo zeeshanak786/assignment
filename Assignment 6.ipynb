{
 "cells": [
  {
   "cell_type": "code",
   "execution_count": null,
   "metadata": {},
   "outputs": [],
   "source": [
    "\n",
    "Q1) Define object oriented programming language?\n",
    "Object oriented programming language is an approach or practice, it is based on classes.Object-oriented programming (OOP) \n",
    "refers to a type of computer programming (software design) in which programmers define not only the data type of a data structure,\n",
    "but also the types of operations (functions) that can be applied to the data structure.\n",
    "\n",
    "Q2) List down the benefits of OOP?\n",
    "Following are the benefits of OOP:\n",
    "\n",
    "1- The code can be written once and can be used again and again.\n",
    "2- Wrapping of data and function into same entity so that it can be written once and \n",
    "   can be used again anywhere in the whole program. \n",
    "3- Object Oriented Programs force designers to go through an extensive planning phase, \n",
    "   which makes for better designs with less flaws. \n",
    "4- OOP provides a clear modular structure for programs. \n",
    "5- It is good for defining abstract data types. \n",
    "6- Implementation details are hidden from other modules. \n",
    "7- It is easy to maintain and modify existing code. \n",
    "8- It implements real life scenario.\n",
    "\n",
    "Q3) Differentiate between function and method?\n",
    "Functions:-\n",
    "In functions there is no reference variables. All data that is passed to a function is explicitly passed. \n",
    "Function apllies to both object oriented and non-object oriented languages.\n",
    "\n",
    "Methods:-\n",
    "Methods are always called by reference variables. It is implicitly passed the object for which it was called. \n",
    "Methods is only applicable to object oriented programming language.\n",
    "\n",
    "Q4) Define the following terms:\n",
    "Class\n",
    "Object\n",
    "Attribute\n",
    "Behavior\n",
    "1- Class:\n",
    "It is a user defined data type, which holds its own data members and member functions, \n",
    "which can be accessed and used by creating an instance of that class.\n",
    "\n",
    "2- Object:\n",
    "An object is an element (or instance) of a class, objects have the behaviors of their class.\n",
    "\n",
    "3- Attribute:\n",
    "Attributes are data stored inside a class or instance and represent the state or quality of the class or instance.\n",
    "\n",
    "4- Behavior:\n",
    "A class's behavior determines how an instance of that class operates. \n",
    "Behavior is the only way objects can do anything to themselves or have anything done to them."
   ]
  },
  {
   "cell_type": "code",
   "execution_count": 1,
   "metadata": {},
   "outputs": [
    {
     "name": "stdout",
     "output_type": "stream",
     "text": [
      "Car Details \n",
      "\n",
      "Owner and car model \n",
      "Name : Zeeshan\n",
      "Model : Mercedes\n",
      "\n",
      "Car features and details \n",
      " Red\n",
      " 1800cc\n",
      " Made in Japan\n"
     ]
    }
   ],
   "source": [
    "class car:\n",
    "    def __init__(self,name,model,color,engine,origin):\n",
    "        self.name = name\n",
    "        self.model = model\n",
    "        self.color = color\n",
    "        self.engine = engine\n",
    "        self.origin = origin\n",
    "        \n",
    "    def myfunc (self):\n",
    "        print(\"Car Details \\n\")\n",
    "        \n",
    "    def myfunc1 (self):\n",
    "        print(\"Owner and car model \\n\" + self.name + self.model)\n",
    "    \n",
    "    def myfunc2 (self):\n",
    "        print(\"Car features and details \\n\" , \"Red\\n\" , \"1800cc\\n\" , \"Made in Japan\")\n",
    "        \n",
    "\n",
    "c1 = car (\"zeeshan\\n\", \"Mercedes\\n\", \"Red\\n\", \"1800cc\\n\", \"Made in Japan\")\n",
    "c1.myfunc()\n",
    "c2 = car (\"Name : Zeeshan\\n\", \"Model : Mercedes\\n\", \"Red\\n\", \"1800cc\\n\", \"Made in Japan\")\n",
    "c2.myfunc1()\n",
    "c3 = car (\"zeeshan\\n\" , \"Mercedes\\n\", \"Color : Red\\n\", \"Engine : 1800cc\\n\", \"Origin : Made in Japan\")\n",
    "c3.myfunc2()"
   ]
  },
  {
   "cell_type": "code",
   "execution_count": null,
   "metadata": {},
   "outputs": [],
   "source": []
  }
 ],
 "metadata": {
  "kernelspec": {
   "display_name": "Python 3",
   "language": "python",
   "name": "python3"
  },
  "language_info": {
   "codemirror_mode": {
    "name": "ipython",
    "version": 3
   },
   "file_extension": ".py",
   "mimetype": "text/x-python",
   "name": "python",
   "nbconvert_exporter": "python",
   "pygments_lexer": "ipython3",
   "version": "3.7.4"
  }
 },
 "nbformat": 4,
 "nbformat_minor": 2
}
